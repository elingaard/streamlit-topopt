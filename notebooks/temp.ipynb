{
 "cells": [
  {
   "cell_type": "code",
   "execution_count": 1,
   "metadata": {},
   "outputs": [],
   "source": [
    "import numpy as np\n",
    "from scipy.ndimage import convolve\n",
    "import matplotlib.pyplot as plt\n",
    "\n",
    "from src.st_to\n",
    "\n",
    "from FEA import QuadMesh, LinearElasticity\n",
    "from topopt import SensitivityFilterTopOpt, DensityFilterTopOpt, HeavisideFilterTopOpt"
   ]
  },
  {
   "cell_type": "code",
   "execution_count": 2,
   "metadata": {},
   "outputs": [],
   "source": [
    "def init_cantilever_beam(mesh, fea):\n",
    "    nelx, nely = (mesh.nelx, mesh.nely)\n",
    "    # insert fixed boundary condition on left edge of the domain in both directions\n",
    "    left_wall_nodes = np.nonzero(mesh.XY[:,0]==0)[0]\n",
    "    fea.insert_node_boundaries(node_ids=left_wall_nodes, axis=0)\n",
    "    fea.insert_node_boundaries(node_ids=left_wall_nodes, axis=1)\n",
    "    # insert force in the middle on the right edge extending 1/10 of the domain in\n",
    "    # y-direction\n",
    "    load_extent_y = 1/10\n",
    "    ele_extent = nely * load_extent_y / 2\n",
    "    mid_ele_right_wall = (nelx - 1) * nely + nely // 2\n",
    "    load_start_ele = int(np.floor(mid_ele_right_wall - ele_extent))\n",
    "    load_end_ele = int(np.ceil(mid_ele_right_wall + ele_extent))\n",
    "    right_wall_load_ele = np.arange(load_start_ele, load_end_ele)\n",
    "    fea.insert_face_forces(ele_ids=right_wall_load_ele, ele_face=1, load_vec = (0, -1))"
   ]
  },
  {
   "cell_type": "code",
   "execution_count": 3,
   "metadata": {},
   "outputs": [],
   "source": [
    "def init_MBB_beam(mesh, fea):\n",
    "    nelx, nely = (mesh.nelx, mesh.nely)\n",
    "    # insert fixed boundary condition on left edge of the domain in x-direction\n",
    "    left_wall_nodes = np.nonzero(mesh.XY[:,0]==0)[0]\n",
    "    fea.insert_node_boundaries(node_ids=left_wall_nodes, axis=0)\n",
    "    # insert vertical support in lower right corner\n",
    "    fea.insert_node_boundaries(node_ids=np.array([mesh.nnodes-1]), axis=1)\n",
    "    # insert force in the middle on the right edge extending 1/10 of the domain in\n",
    "    # y-direction\n",
    "    fea.insert_node_load(node_id=0, load_vec=(0, -1))"
   ]
  },
  {
   "cell_type": "code",
   "execution_count": 4,
   "metadata": {},
   "outputs": [],
   "source": [
    "def init_bridge(mesh, fea):\n",
    "    nelx, nely = (mesh.nelx, mesh.nely)\n",
    "    # insert fixed boundary condition on entire lower part of the domain\n",
    "    lower_wall_nodes = np.nonzero(mesh.XY[:,1]==nely)[0]\n",
    "    fea.insert_node_boundaries(node_ids=lower_wall_nodes, axis=0)\n",
    "    fea.insert_node_boundaries(node_ids=lower_wall_nodes, axis=1)\n",
    "    # insert distributed load across the entire upper part of the domain\n",
    "    upper_wall_eles = np.arange(0, mesh.nele, step=nely)\n",
    "    fea.insert_face_forces(ele_ids=upper_wall_eles, ele_face=0, load_vec=(0, -1))"
   ]
  },
  {
   "cell_type": "code",
   "execution_count": 5,
   "metadata": {},
   "outputs": [],
   "source": [
    "nelx = 60\n",
    "nely = 30\n",
    "mesh = QuadMesh(nelx, nely)\n",
    "fea = LinearElasticity(mesh)\n",
    "init_cantilever_beam(mesh, fea)\n",
    "# init_MBB_beam(mesh, fea)\n",
    "# init_bridge(mesh, fea)"
   ]
  },
  {
   "cell_type": "code",
   "execution_count": 6,
   "metadata": {},
   "outputs": [],
   "source": [
    "topopt = SensitivityFilterTopOpt(\n",
    "    mesh = mesh, \n",
    "    fea = fea,\n",
    "    volfrac = 0.3,\n",
    "    penal = 3, \n",
    "    max_iter = 1000, \n",
    "    min_change = 0.01, \n",
    "    move_limit = 0.2,\n",
    "    rmin = 1.5\n",
    ")"
   ]
  },
  {
   "cell_type": "code",
   "execution_count": 7,
   "metadata": {},
   "outputs": [
    {
     "data": {
      "text/plain": [
       "<matplotlib.image.AxesImage at 0x123c8f790>"
      ]
     },
     "execution_count": 7,
     "metadata": {},
     "output_type": "execute_result"
    },
    {
     "data": {
      "image/png": "[encoded data removed]",
      "text/plain": [
       "<Figure size 960x480 with 1 Axes>"
      ]
     },
     "metadata": {},
     "output_type": "display_data"
    }
   ],
   "source": [
    "comp = topopt.run()\n",
    "plt.matshow(-topopt.rho_phys, cmap=\"gray\")"
   ]
  },
  {
   "cell_type": "code",
   "execution_count": 8,
   "metadata": {},
   "outputs": [],
   "source": [
    "strain_energy_mat = fea.compute_strain_energy(fea.displacement)\n",
    "plt.matshow(strain_energy_mat)"
   ]
  },
  {
   "cell_type": "code",
   "execution_count": 11,
   "metadata": {},
   "outputs": [
    {
     "data": {
      "text/plain": [
       "<matplotlib.image.AxesImage at 0x123f3d190>"
      ]
     },
     "execution_count": 11,
     "metadata": {},
     "output_type": "execute_result"
    },
    {
     "data": {
      "image/png": "[encoded data removed]",
      "text/plain": [
       "<Figure size 960x480 with 1 Axes>"
      ]
     },
     "metadata": {},
     "output_type": "display_data"
    }
   ],
   "source": [
    "sigma_vm = fea.compute_von_mises_stresses(fea.displacement)\n",
    "plt.matshow(sigma_vm)"
   ]
  },
  {
   "cell_type": "code",
   "execution_count": 13,
   "metadata": {},
   "outputs": [
    {
     "data": {
      "text/plain": [
       "117.86890068555786"
      ]
     },
     "execution_count": 13,
     "metadata": {},
     "output_type": "execute_result"
    }
   ],
   "source": [
    "fea.compute_compliance(fea.displacement)"
   ]
  },
  {
   "cell_type": "code",
   "execution_count": 28,
   "metadata": {},
   "outputs": [],
   "source": [
    "    # unit dimensions for element\n",
    "    a = 0.5\n",
    "    b = 0.5\n",
    "    # initialize traction to unity\n",
    "    tr11 = 1\n",
    "    tr22 = 1\n",
    "\n",
    "    f0x_face1 = np.zeros(8)\n",
    "    f0x_face1[[4, 6]] = tr11 * a\n",
    "\n",
    "    f0y_face1 = np.zeros(8)\n",
    "    f0y_face1[[5, 7]] = tr22 * a\n",
    "\n",
    "    f0x_face2 = np.zeros(8)\n",
    "    f0x_face2[[2, 4]] = tr11 * b\n",
    "\n",
    "    f0y_face2 = np.zeros(8)\n",
    "    f0y_face2[[3, 5]] = tr22 * b\n",
    "\n",
    "    f0x_face3 = np.zeros(8)\n",
    "    f0x_face3[[0, 2]] = tr11 * a\n",
    "\n",
    "    f0y_face3 = np.zeros(8)\n",
    "    f0y_face3[[1, 3]] = tr22 * a\n",
    "\n",
    "    f0x_face4 = np.zeros(8)\n",
    "    f0x_face4[[0, 6]] = tr11 * b\n",
    "\n",
    "    f0y_face4 = np.zeros(8)\n",
    "    f0y_face4[[1, 7]] = tr22 * b\n",
    "\n",
    "    face_force_vecs = np.vstack((\n",
    "        f0x_face1,\n",
    "        f0y_face1,\n",
    "        f0x_face2,\n",
    "        f0y_face2,\n",
    "        f0x_face3,\n",
    "        f0y_face3,\n",
    "        f0x_face4,\n",
    "        f0y_face4,\n",
    "    ))"
   ]
  },
  {
   "cell_type": "code",
   "execution_count": 27,
   "metadata": {},
   "outputs": [
    {
     "data": {
      "text/plain": [
       "array([[0. , 0. , 0. , 0. , 0.5, 0. , 0.5, 0. ],\n",
       "       [0. , 0. , 0. , 0. , 0. , 0.5, 0. , 0.5],\n",
       "       [0. , 0. , 0.5, 0. , 0.5, 0. , 0. , 0. ],\n",
       "       [0. , 0. , 0. , 0.5, 0. , 0.5, 0. , 0. ],\n",
       "       [0.5, 0. , 0.5, 0. , 0. , 0. , 0. , 0. ],\n",
       "       [0. , 0.5, 0. , 0.5, 0. , 0. , 0. , 0. ],\n",
       "       [0.5, 0. , 0. , 0. , 0. , 0. , 0.5, 0. ],\n",
       "       [0. , 0.5, 0. , 0. , 0. , 0. , 0. , 0.5]])"
      ]
     },
     "execution_count": 27,
     "metadata": {},
     "output_type": "execute_result"
    }
   ],
   "source": [
    "np.vstack(face_force_vecs)"
   ]
  },
  {
   "cell_type": "code",
   "execution_count": 31,
   "metadata": {},
   "outputs": [],
   "source": [
    "ele_face = 2\n",
    "f0x_face, f0y_face = face_force_vecs[ele_face * 2 : (ele_face + 1) * 2]"
   ]
  },
  {
   "cell_type": "code",
   "execution_count": 32,
   "metadata": {},
   "outputs": [
    {
     "data": {
      "text/plain": [
       "array([0.5, 0. , 0.5, 0. , 0. , 0. , 0. , 0. ])"
      ]
     },
     "execution_count": 32,
     "metadata": {},
     "output_type": "execute_result"
    }
   ],
   "source": [
    "f0x_face"
   ]
  },
  {
   "cell_type": "code",
   "execution_count": 33,
   "metadata": {},
   "outputs": [
    {
     "data": {
      "text/plain": [
       "array([0. , 0.5, 0. , 0.5, 0. , 0. , 0. , 0. ])"
      ]
     },
     "execution_count": 33,
     "metadata": {},
     "output_type": "execute_result"
    }
   ],
   "source": [
    "f0y_face"
   ]
  },
  {
   "cell_type": "code",
   "execution_count": 36,
   "metadata": {},
   "outputs": [],
   "source": [
    "arr = np.ones((2,3))"
   ]
  },
  {
   "cell_type": "code",
   "execution_count": 37,
   "metadata": {},
   "outputs": [
    {
     "data": {
      "text/plain": [
       "array([[1., 1., 1.],\n",
       "       [1., 1., 1.]])"
      ]
     },
     "execution_count": 37,
     "metadata": {},
     "output_type": "execute_result"
    }
   ],
   "source": [
    "arr"
   ]
  },
  {
   "cell_type": "code",
   "execution_count": 39,
   "metadata": {},
   "outputs": [],
   "source": [
    "arr1, arr2 = arr"
   ]
  },
  {
   "cell_type": "code",
   "execution_count": 40,
   "metadata": {},
   "outputs": [
    {
     "data": {
      "text/plain": [
       "array([1., 1., 1.])"
      ]
     },
     "execution_count": 40,
     "metadata": {},
     "output_type": "execute_result"
    }
   ],
   "source": [
    "arr1"
   ]
  },
  {
   "cell_type": "code",
   "execution_count": 42,
   "metadata": {},
   "outputs": [
    {
     "data": {
      "text/plain": [
       "{'hej': 2}"
      ]
     },
     "execution_count": 42,
     "metadata": {},
     "output_type": "execute_result"
    }
   ],
   "source": [
    "{\n",
    "    \"hej\":2\n",
    "}"
   ]
  },
  {
   "cell_type": "code",
   "execution_count": null,
   "metadata": {},
   "outputs": [],
   "source": []
  }
 ],
 "metadata": {
  "kernelspec": {
   "display_name": "topopt",
   "language": "python",
   "name": "python3"
  },
  "language_info": {
   "codemirror_mode": {
    "name": "ipython",
    "version": 3
   },
   "file_extension": ".py",
   "mimetype": "text/x-python",
   "name": "python",
   "nbconvert_exporter": "python",
   "pygments_lexer": "ipython3",
   "version": "3.9.15 (main, Nov 24 2022, 08:28:41) \n[Clang 14.0.6 ]"
  },
  "orig_nbformat": 4,
  "vscode": {
   "interpreter": {
    "hash": "cfd3f7f53f458bdb8b5b86f19df81f9dafedb5fe0aa9627471e7089825b7c5e6"
   }
  }
 },
 "nbformat": 4,
 "nbformat_minor": 2
}
